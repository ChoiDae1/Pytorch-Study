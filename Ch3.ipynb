{
 "cells": [
  {
   "cell_type": "code",
   "execution_count": 1,
   "id": "a2974138",
   "metadata": {},
   "outputs": [
    {
     "data": {
      "text/plain": [
       "tensor([[0., 0., 0., 0.],\n",
       "        [0., 0., 0., 0.]])"
      ]
     },
     "execution_count": 1,
     "metadata": {},
     "output_type": "execute_result"
    }
   ],
   "source": [
    "#텐서 기본\n",
    "import torch\n",
    "X = torch.Tensor(2,4)#2X3크기의 텐서 생성, 원소는 임의의 난수\n",
    "X"
   ]
  },
  {
   "cell_type": "code",
   "execution_count": 2,
   "id": "f3670a3d",
   "metadata": {},
   "outputs": [
    {
     "name": "stdout",
     "output_type": "stream",
     "text": [
      "tensor([[1, 2, 3],\n",
      "        [4, 5, 6]])\n",
      "torch.int64\n",
      "tensor([[1, 2, 3],\n",
      "        [4, 5, 6]])\n",
      "cpu\n",
      "False\n"
     ]
    }
   ],
   "source": [
    "X = torch.tensor([[1,2,3],[4,5,6]])#원하는 값 직접입력 가능\n",
    "print(X)\n",
    "print(X.dtype)#텐서에 저장된 원소의 자료형\n",
    "print(X.data)#print(X)와 같음\n",
    "print(X.device)#어떤기기에 텐서를 올리는지\n",
    "print(X.requires_grad)#텐서에 대한 기울기를 저장할 것인지, default는 False"
   ]
  },
  {
   "cell_type": "code",
   "execution_count": 3,
   "id": "8626daa5",
   "metadata": {},
   "outputs": [
    {
     "name": "stdout",
     "output_type": "stream",
     "text": [
      "torch.float32\n"
     ]
    }
   ],
   "source": [
    "x_tensor = torch.tensor(data=[2.0, 3.0], requires_grad=True)\n",
    "print(x_tensor.dtype)"
   ]
  },
  {
   "cell_type": "code",
   "execution_count": 4,
   "id": "61170834",
   "metadata": {},
   "outputs": [
    {
     "name": "stdout",
     "output_type": "stream",
     "text": [
      "tensor([ 8., 12.]) None None\n"
     ]
    },
    {
     "name": "stderr",
     "output_type": "stream",
     "text": [
      "c:\\users\\user\\anaconda3\\envs\\pytorch\\lib\\site-packages\\ipykernel_launcher.py:10: UserWarning: The .grad attribute of a Tensor that is not a leaf Tensor is being accessed. Its .grad attribute won't be populated during autograd.backward(). If you indeed want the gradient for a non-leaf Tensor, use .retain_grad() on the non-leaf Tensor. If you access the non-leaf Tensor by mistake, make sure you access the leaf Tensor instead. See github.com/pytorch/pytorch/pull/30531 for more information.\n",
      "  # Remove the CWD from sys.path while we load stuff.\n"
     ]
    }
   ],
   "source": [
    "#torch.tensor는 dtype dafault가 int여서 float형으로 자료형을 변환해야 함. torch.Tensor는 float32\n",
    "x = torch.tensor(data=[2,3], dtype=torch.float32, requires_grad=True) \n",
    "y = x**2\n",
    "z = 2*y +3\n",
    "\n",
    "target = torch.tensor([3,4])\n",
    "loss = torch.sum(torch.abs(z-target))\n",
    "loss.backward()#연산 그래프를 따라가면서 기울기 계산\n",
    "\n",
    "print(x.grad, y.grad, z.grad)"
   ]
  },
  {
   "cell_type": "code",
   "execution_count": 5,
   "id": "e475bbc3",
   "metadata": {},
   "outputs": [],
   "source": [
    "import torch\n",
    "import torch.nn as nn#다양한 신경망 layer, model 포함\n",
    "import torch.optim as optim#경사하강법 알고리즘\n",
    "import torch.nn.init as init#텐서의 초기값을 주기위해 필요한 함수"
   ]
  },
  {
   "cell_type": "code",
   "execution_count": 7,
   "id": "ebbacd47",
   "metadata": {},
   "outputs": [
    {
     "name": "stdout",
     "output_type": "stream",
     "text": [
      "epoch0 loss:81.0762939453125\n",
      "epoch100 loss:80.83755493164062\n",
      "epoch200 loss:80.74433135986328\n",
      "epoch300 loss:80.53543853759766\n",
      "epoch400 loss:80.17977142333984\n",
      "epoch500 loss:79.67991638183594\n",
      "epoch600 loss:78.97834014892578\n",
      "epoch700 loss:78.0007095336914\n",
      "epoch800 loss:76.61815643310547\n",
      "epoch900 loss:74.72564697265625\n",
      "epoch1000 loss:72.22037506103516\n",
      "epoch1100 loss:68.99864959716797\n",
      "epoch1200 loss:64.99720001220703\n",
      "epoch1300 loss:60.305118560791016\n",
      "epoch1400 loss:55.09256362915039\n",
      "epoch1500 loss:49.555686950683594\n",
      "epoch1600 loss:43.94168472290039\n",
      "epoch1700 loss:38.53467559814453\n",
      "epoch1800 loss:33.77058410644531\n",
      "epoch1900 loss:30.127965927124023\n",
      "epoch2000 loss:27.395465850830078\n",
      "epoch2100 loss:25.48948097229004\n",
      "epoch2200 loss:24.29296112060547\n",
      "epoch2300 loss:23.52316665649414\n",
      "epoch2400 loss:23.081315994262695\n",
      "epoch2500 loss:22.747385025024414\n",
      "epoch2600 loss:22.47711753845215\n",
      "epoch2700 loss:22.252132415771484\n",
      "epoch2800 loss:22.027496337890625\n",
      "epoch2900 loss:21.76015281677246\n",
      "epoch3000 loss:21.49072265625\n",
      "epoch3100 loss:21.215391159057617\n",
      "epoch3200 loss:20.930845260620117\n",
      "epoch3300 loss:20.637582778930664\n",
      "epoch3400 loss:20.341514587402344\n",
      "epoch3500 loss:20.050039291381836\n",
      "epoch3600 loss:19.763275146484375\n",
      "epoch3700 loss:19.487884521484375\n",
      "epoch3800 loss:19.213048934936523\n",
      "epoch3900 loss:18.938886642456055\n",
      "epoch4000 loss:18.65540313720703\n",
      "epoch4100 loss:18.360050201416016\n",
      "epoch4200 loss:18.063222885131836\n",
      "epoch4300 loss:17.772207260131836\n",
      "epoch4400 loss:17.478120803833008\n",
      "epoch4500 loss:17.186492919921875\n",
      "epoch4600 loss:16.877525329589844\n",
      "epoch4700 loss:16.555583953857422\n",
      "epoch4800 loss:16.23819923400879\n",
      "epoch4900 loss:15.931910514831543\n",
      "epoch5000 loss:15.636560440063477\n",
      "epoch5100 loss:15.344854354858398\n",
      "epoch5200 loss:15.050658226013184\n",
      "epoch5300 loss:14.753302574157715\n",
      "epoch5400 loss:14.47162914276123\n",
      "epoch5500 loss:14.220345497131348\n",
      "epoch5600 loss:13.990152359008789\n",
      "epoch5700 loss:13.7831392288208\n",
      "epoch5800 loss:13.57961654663086\n",
      "epoch5900 loss:13.413956642150879\n",
      "epoch6000 loss:13.266609191894531\n",
      "epoch6100 loss:13.140677452087402\n",
      "epoch6200 loss:13.022810935974121\n",
      "epoch6300 loss:12.914838790893555\n",
      "epoch6400 loss:12.812466621398926\n",
      "epoch6500 loss:12.715592384338379\n",
      "epoch6600 loss:12.619974136352539\n",
      "epoch6700 loss:12.528397560119629\n",
      "epoch6800 loss:12.4337797164917\n",
      "epoch6900 loss:12.345519065856934\n",
      "epoch7000 loss:12.25782299041748\n",
      "epoch7100 loss:12.158952713012695\n",
      "epoch7200 loss:12.02737808227539\n",
      "epoch7300 loss:11.83590316772461\n",
      "epoch7400 loss:11.500893592834473\n",
      "epoch7500 loss:11.16926383972168\n",
      "epoch7600 loss:10.970649719238281\n",
      "epoch7700 loss:10.729743957519531\n",
      "epoch7800 loss:10.448336601257324\n",
      "epoch7900 loss:10.124401092529297\n",
      "epoch8000 loss:9.748318672180176\n",
      "epoch8100 loss:9.263442039489746\n",
      "epoch8200 loss:8.877084732055664\n",
      "epoch8300 loss:8.553061485290527\n",
      "epoch8400 loss:8.198101997375488\n",
      "epoch8500 loss:7.797584056854248\n",
      "epoch8600 loss:7.352405071258545\n",
      "epoch8700 loss:6.8551201820373535\n",
      "epoch8800 loss:6.251928329467773\n",
      "epoch8900 loss:5.709577560424805\n",
      "epoch9000 loss:5.337940216064453\n",
      "epoch9100 loss:5.034617900848389\n",
      "epoch9200 loss:4.766221523284912\n",
      "epoch9300 loss:4.536350250244141\n",
      "epoch9400 loss:4.325516700744629\n",
      "epoch9500 loss:4.1331377029418945\n",
      "epoch9600 loss:3.9682064056396484\n",
      "epoch9700 loss:3.8211207389831543\n",
      "epoch9800 loss:3.6776463985443115\n",
      "epoch9900 loss:3.5152595043182373\n"
     ]
    }
   ],
   "source": [
    "num_data = 1000\n",
    "num_epoch = 10000\n",
    "\n",
    "noise = init.normal_(torch.Tensor(num_data,1), std=1)\n",
    "x = init.uniform_(torch.Tensor(num_data, 1), -15, 15)\n",
    "y = (x**2)+3#비선형으로 한번 꼬아서\n",
    "y_noise = y+ noise\n",
    "\n",
    "model = nn.Sequential(\n",
    "        nn.Linear(1,6),\n",
    "        nn.ReLU(),\n",
    "        nn.Linear(6,10),\n",
    "        nn.ReLU(),\n",
    "        nn.Linear(10,6),\n",
    "        nn.ReLU(),\n",
    "        nn.Linear(6,1))#4-layer fully-connected-layer\n",
    "\n",
    "loss_fn = nn.L1Loss()\n",
    "optimizer = optim.Adam(model.parameters(), lr=0.0002)\n",
    "\n",
    "loss_array = []\n",
    "for i in range(num_epoch):\n",
    "    optimizer.zero_grad()\n",
    "    output = model(x)\n",
    "    \n",
    "    loss = loss_fn(output,y_noise)\n",
    "    loss.backward()\n",
    "    optimizer.step()\n",
    "    loss_array.append(loss.data)#loss값만 필요하니까 loss.data사용\n",
    "    \n",
    "    if (i%100)==0:\n",
    "        print(f'epoch{i} loss:{loss.data}')\n"
   ]
  }
 ],
 "metadata": {
  "kernelspec": {
   "display_name": "Python 3 (ipykernel)",
   "language": "python",
   "name": "python3"
  },
  "language_info": {
   "codemirror_mode": {
    "name": "ipython",
    "version": 3
   },
   "file_extension": ".py",
   "mimetype": "text/x-python",
   "name": "python",
   "nbconvert_exporter": "python",
   "pygments_lexer": "ipython3",
   "version": "3.7.11"
  }
 },
 "nbformat": 4,
 "nbformat_minor": 5
}
