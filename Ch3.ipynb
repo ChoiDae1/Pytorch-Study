{
 "cells": [
  {
   "cell_type": "code",
   "execution_count": 1,
   "id": "a2974138",
   "metadata": {},
   "outputs": [
    {
     "data": {
      "text/plain": [
       "tensor([[0., 0., 0., 0.],\n",
       "        [0., 0., 0., 0.]])"
      ]
     },
     "execution_count": 1,
     "metadata": {},
     "output_type": "execute_result"
    }
   ],
   "source": [
    "#텐서 기본\n",
    "import torch\n",
    "X = torch.Tensor(2,4)#2X3크기의 텐서 생성, 원소는 임의의 난수\n",
    "X"
   ]
  },
  {
   "cell_type": "code",
   "execution_count": 2,
   "id": "f3670a3d",
   "metadata": {},
   "outputs": [
    {
     "name": "stdout",
     "output_type": "stream",
     "text": [
      "tensor([[1, 2, 3],\n",
      "        [4, 5, 6]])\n",
      "torch.int64\n",
      "tensor([[1, 2, 3],\n",
      "        [4, 5, 6]])\n",
      "cpu\n",
      "False\n"
     ]
    }
   ],
   "source": [
    "X = torch.tensor([[1,2,3],[4,5,6]])#원하는 값 직접입력 가능\n",
    "print(X)\n",
    "print(X.dtype)#텐서에 저장된 원소의 자료형\n",
    "print(X.data)#print(X)와 같음\n",
    "print(X.device)#어떤기기에 텐서를 올리는지\n",
    "print(X.requires_grad)#텐서에 대한 기울기를 저장할 것인지, default는 False"
   ]
  },
  {
   "cell_type": "code",
   "execution_count": 3,
   "id": "8626daa5",
   "metadata": {},
   "outputs": [
    {
     "name": "stdout",
     "output_type": "stream",
     "text": [
      "torch.float32\n"
     ]
    }
   ],
   "source": [
    "x_tensor = torch.tensor(data=[2.0, 3.0], requires_grad=True)\n",
    "print(x_tensor.dtype)"
   ]
  },
  {
   "cell_type": "code",
   "execution_count": 4,
   "id": "61170834",
   "metadata": {},
   "outputs": [
    {
     "name": "stdout",
     "output_type": "stream",
     "text": [
      "tensor([ 8., 12.]) None None\n"
     ]
    },
    {
     "name": "stderr",
     "output_type": "stream",
     "text": [
      "c:\\users\\user\\anaconda3\\envs\\pytorch\\lib\\site-packages\\ipykernel_launcher.py:10: UserWarning: The .grad attribute of a Tensor that is not a leaf Tensor is being accessed. Its .grad attribute won't be populated during autograd.backward(). If you indeed want the gradient for a non-leaf Tensor, use .retain_grad() on the non-leaf Tensor. If you access the non-leaf Tensor by mistake, make sure you access the leaf Tensor instead. See github.com/pytorch/pytorch/pull/30531 for more information.\n",
      "  # Remove the CWD from sys.path while we load stuff.\n"
     ]
    }
   ],
   "source": [
    "#torch.tensor는 dtype dafault가 int여서 float형으로 자료형을 변환해야 함. torch.Tensor는 float32\n",
    "x = torch.tensor(data=[2,3], dtype=torch.float32, requires_grad=True) \n",
    "y = x**2\n",
    "z = 2*y +3\n",
    "\n",
    "target = torch.tensor([3,4])\n",
    "loss = torch.sum(torch.abs(z-target))\n",
    "loss.backward()#연산 그래프를 따라가면서 기울기 계산\n",
    "\n",
    "print(x.grad, y.grad, z.grad)"
   ]
  },
  {
   "cell_type": "code",
   "execution_count": 5,
   "id": "e475bbc3",
   "metadata": {},
   "outputs": [],
   "source": [
    "import torch\n",
    "import torch.nn as nn#다양한 신경망 layer, model 포함\n",
    "import torch.optim as optim#경사하강법 알고리즘\n",
    "import torch.nn.init as init#텐서의 초기값을 주기위해 필요한 함수"
   ]
  },
  {
   "cell_type": "code",
   "execution_count": null,
   "id": "ebbacd47",
   "metadata": {},
   "outputs": [
    {
     "name": "stdout",
     "output_type": "stream",
     "text": [
      "epoch0 loss:74.72109985351562\n"
     ]
    }
   ],
   "source": [
    "num_data = 1000\n",
    "num_epoch = 10000\n",
    "\n",
    "noise = init.normal_(torch.Tensor(num_data,1), std=1)\n",
    "x = init.uniform_(torch.Tensor(num_data, 1), -15, 15)\n",
    "y = (x**2)+3#비선형으로 한번 꼬아서\n",
    "y_noise = y+ noise\n",
    "\n",
    "model = nn.Sequential(\n",
    "        nn.Linear(1,6),\n",
    "        nn.ReLU(),\n",
    "        nn.Linear(6,10),\n",
    "        nn.ReLU(),\n",
    "        nn.Linear(10,6),\n",
    "        nn.ReLU(),\n",
    "        nn.Linear(6,1))#4-layer fully-connected-layer\n",
    "\n",
    "loss_fn = nn.L1Loss()\n",
    "optimizer = optim.Adam(model.parameters(), lr=0.0002)\n",
    "\n",
    "loss_array = []\n",
    "for i in range(num_epoch):\n",
    "    optimizer.zero_grad()\n",
    "    output = model(x)\n",
    "    \n",
    "    loss = loss_fn(output,y_noise)\n",
    "    loss.backward()\n",
    "    optimizer.step()\n",
    "    loss_array.append(loss.data)#loss값만 필요하니까 loss.data사용\n",
    "    \n",
    "    if (i%100)==0:\n",
    "        print(f'epoch{i} loss:{loss.data}')\n"
   ]
  }
 ],
 "metadata": {
  "kernelspec": {
   "display_name": "Python 3 (ipykernel)",
   "language": "python",
   "name": "python3"
  },
  "language_info": {
   "codemirror_mode": {
    "name": "ipython",
    "version": 3
   },
   "file_extension": ".py",
   "mimetype": "text/x-python",
   "name": "python",
   "nbconvert_exporter": "python",
   "pygments_lexer": "ipython3",
   "version": "3.7.11"
  }
 },
 "nbformat": 4,
 "nbformat_minor": 5
}
