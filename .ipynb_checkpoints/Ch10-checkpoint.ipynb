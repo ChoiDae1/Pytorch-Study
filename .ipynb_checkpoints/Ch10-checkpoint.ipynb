{
 "cells": [
  {
   "cell_type": "markdown",
   "id": "db24677d",
   "metadata": {},
   "source": [
    "## GAN(Generative Adversarial Network)\n",
    "\n",
    "GAN, 생성적 적대 신경망라는 이름에도 들어나 있듯이, 데이터를 생성하는 모델이다. 또한 적대라는 의미는 모델의 구조를 보면 쉽게 파악할 수 있다. GAN은 크게 데이터를 만들어 내는 Generator와 Generator가 만들어내는 이미지와 실제이미지 중 진짜를 판별하는 Discriminator로 이루어져 있다. GAN의 목적은 Generator와 Discriminator가 서로 경쟁을 하면서, 최종적으로 Generator가 만들어 내는 데이터의 분포와 학습에 사용하는 실제 데이터의 분포를 같아지도록 만드는 것이다. 이러한 목적을 달성하기 위해서는 loss function을 잘 설정해야 한다. GAN의 loss function은 log-likehood를 사용하든, MSELoss를 사용하든 한가지만 알면된다. 첫번째로, Discriminator가 학습할때는, Disciminator가 실제이미지가 진짜(1)로 판별하고, Generator가 만들어내는 이미지를 가짜(0)로 판별하도록 학습해야한다. 두번째로, Generator에서 학습할때는,  Discrimator가 Genrator가 만들어내는 이미지가 진짜(1)로 판별하도록 학습해야한다. 이러한 경쟁적 학습 알고리즘을 거치면서 서로 발전하면서 최종적으로, Generator의 성능을 향상 시킬 수 있는 것이다.   "
   ]
  },
  {
   "cell_type": "code",
   "execution_count": 1,
   "id": "b0109048",
   "metadata": {},
   "outputs": [],
   "source": [
    "import numpy as np\n",
    "import torch\n",
    "import torch.nn as nn\n",
    "import torch.optim as optim\n",
    "import torch.nn.init as init\n",
    "import torchvision.datasets as dset\n",
    "import torchvision.transforms as transforms\n",
    "from torch.utils.data import DataLoader"
   ]
  },
  {
   "cell_type": "code",
   "execution_count": 2,
   "id": "e2e6b269",
   "metadata": {},
   "outputs": [],
   "source": [
    "batch_size = 256\n",
    "learning_rate = 0.001\n",
    "epoch = 10"
   ]
  },
  {
   "cell_type": "code",
   "execution_count": 3,
   "id": "69da3073",
   "metadata": {},
   "outputs": [
    {
     "name": "stderr",
     "output_type": "stream",
     "text": [
      "c:\\users\\user\\anaconda3\\envs\\pytorch\\lib\\site-packages\\torchvision\\datasets\\mnist.py:498: UserWarning: The given NumPy array is not writeable, and PyTorch does not support non-writeable tensors. This means you can write to the underlying (supposedly non-writeable) NumPy array using the tensor. You may want to copy the array to protect its data or make it writeable before converting it to a tensor. This type of warning will be suppressed for the rest of this program. (Triggered internally at  ..\\torch\\csrc\\utils\\tensor_numpy.cpp:180.)\n",
      "  return torch.from_numpy(parsed.astype(m[2], copy=False)).view(*s)\n"
     ]
    }
   ],
   "source": [
    "mnist_train = dset.MNIST(\"./\", train=True, transform=transforms.ToTensor(), target_transform=None, download=True)\n",
    "mnist_test = dset.MNIST(\"./\", train=False, transform=transforms.ToTensor(), target_transform=None, download=True)"
   ]
  },
  {
   "cell_type": "code",
   "execution_count": 4,
   "id": "f5e21097",
   "metadata": {},
   "outputs": [],
   "source": [
    "train_loader= DataLoader(mnist_train, batch_size=batch_size, shuffle=True, num_workers=2, drop_last=True)\n",
    "test_loader=DataLoader(mnist_test, batch_size=batch_size, shuffle=False, num_workers=2, drop_last=True)"
   ]
  },
  {
   "cell_type": "code",
   "execution_count": 5,
   "id": "3d6576eb",
   "metadata": {},
   "outputs": [
    {
     "name": "stdout",
     "output_type": "stream",
     "text": [
      "torch.Size([256, 1, 28, 28])\n"
     ]
    }
   ],
   "source": [
    "for index, [image, label] in enumerate(train_loader):\n",
    "    x = image\n",
    "    y = label\n",
    "    print(x.shape)\n",
    "    break"
   ]
  },
  {
   "cell_type": "code",
   "execution_count": 6,
   "id": "05398003",
   "metadata": {},
   "outputs": [],
   "source": [
    "z_size = 50\n",
    "middle_size = 200"
   ]
  },
  {
   "cell_type": "code",
   "execution_count": 7,
   "id": "8bf40d5c",
   "metadata": {},
   "outputs": [],
   "source": [
    "#기본적인 GAN \n",
    "class Generator(nn.Module):\n",
    "    def __init__(self):\n",
    "        super(Generator,self).__init__()\n",
    "        self.layer1 = nn.Sequential(nn.Linear(z_size, middle_size),\n",
    "                                    nn.BatchNorm1d(middle_size),\n",
    "                                    nn.ReLU())\n",
    "        self.layer2 = nn.Sequential(nn.Linear(middle_size, 28*28),\n",
    "                                    nn.BatchNorm1d(28*28),\n",
    "                                    nn.Tanh())\n",
    "        \n",
    "        for m in self.modules():\n",
    "            if isinstance(m, nn.Linear):\n",
    "                init.kaiming_normal_(m.weight.data)\n",
    "                m.bias.data.fill_(0)\n",
    "            \n",
    "    def forward(self, z):\n",
    "        out = self.layer1(z)\n",
    "        out = self.layer2(out)\n",
    "        out = out.view(batch_size, 1, 28, 28)\n",
    "        return out\n",
    "\n",
    "class Discriminator(nn.Module):\n",
    "    def __init__(self):\n",
    "        super(Discriminator, self).__init__()\n",
    "        self.layer1 = nn.Sequential(nn.Linear(28*28, middle_size),\n",
    "                                    nn.BatchNorm1d(middle_size),\n",
    "                                    nn.ReLU())\n",
    "        self.layer2 = nn.Sequential(nn.Linear(middle_size, 1),\n",
    "                                    nn.BatchNorm1d(1),\n",
    "                                    nn.Sigmoid())\n",
    "        \n",
    "        for m in self.modules():\n",
    "            if isinstance(m, nn.Linear):\n",
    "                init.kaiming_normal_(m.weight.data)\n",
    "                m.bias.data.fill_(0)\n",
    "    \n",
    "    def forward(self, x):\n",
    "        out = x.view(batch_size, -1)\n",
    "        out = self.layer1(out)\n",
    "        out = self.layer2(out)\n",
    "        return out\n",
    "        "
   ]
  },
  {
   "cell_type": "code",
   "execution_count": 8,
   "id": "d82eb3ea",
   "metadata": {},
   "outputs": [
    {
     "name": "stdout",
     "output_type": "stream",
     "text": [
      "cuda\n"
     ]
    }
   ],
   "source": [
    "device = torch.device('cuda') if torch.cuda.is_available() else torch.device('cpu')\n",
    "print(device)\n",
    "generator = Generator().to(device)\n",
    "discriminator = Discriminator().to(device)"
   ]
  },
  {
   "cell_type": "code",
   "execution_count": 9,
   "id": "35695f80",
   "metadata": {},
   "outputs": [],
   "source": [
    "loss_func = nn.MSELoss()\n",
    "gen_optim = optim.Adam(generator.parameters(), lr=learning_rate)\n",
    "dis_optim = optim.Adam(discriminator.parameters(), lr=learning_rate)\n",
    "\n",
    "ones_label = torch.ones(batch_size, 1).to(device)\n",
    "zeros_label = torch.zeros(batch_size, 1).to(device)"
   ]
  },
  {
   "cell_type": "code",
   "execution_count": 10,
   "id": "b67ad0d6",
   "metadata": {},
   "outputs": [
    {
     "name": "stdout",
     "output_type": "stream",
     "text": [
      "1th iteration gen_loss: 0.2796860337257385 dis_loss: 0.4944559335708618\n",
      "best_gen_loss update\n",
      "2th iteration gen_loss: 0.2940012812614441 dis_loss: 0.47192350029945374\n",
      "3th iteration gen_loss: 0.30829310417175293 dis_loss: 0.4451826214790344\n",
      "4th iteration gen_loss: 0.33777546882629395 dis_loss: 0.4360648989677429\n",
      "5th iteration gen_loss: 0.3459550142288208 dis_loss: 0.4138697385787964\n",
      "6th iteration gen_loss: 0.3564240038394928 dis_loss: 0.3863994777202606\n",
      "7th iteration gen_loss: 0.38878756761550903 dis_loss: 0.3801610469818115\n",
      "8th iteration gen_loss: 0.4159921407699585 dis_loss: 0.36554670333862305\n",
      "9th iteration gen_loss: 0.36321377754211426 dis_loss: 0.3467530608177185\n",
      "10th iteration gen_loss: 0.44370558857917786 dis_loss: 0.3397599756717682\n"
     ]
    }
   ],
   "source": [
    "best_gen_loss = float('inf') #초기 loss는 무한대로 설정\n",
    "\n",
    "for i in range(epoch):\n",
    "    for j, (image, label) in enumerate(train_loader):\n",
    "        #Discrimator 학습\n",
    "        dis_optim.zero_grad()\n",
    "        \n",
    "        image = image.to(device)\n",
    "        z = init.normal_(torch.Tensor(batch_size, z_size), mean=0, std=0.1).to(device)\n",
    "        gen_fake = generator(z) #(batch_size, 1, 28, 28)\n",
    "        dis_fake = discriminator(gen_fake)\n",
    "        \n",
    "        dis_real = discriminator(image)\n",
    "        dis_loss = loss_func(dis_fake, zeros_label)+ loss_func(dis_real, ones_label)\n",
    "        dis_loss.backward()\n",
    "        dis_optim.step()\n",
    "        \n",
    "        #Generator 학습\n",
    "        gen_optim.zero_grad()\n",
    "        z = init.normal_(torch.Tensor(batch_size, z_size), mean=0, std=0.1).to(device)\n",
    "        gen_fake = generator(z) #(batch_size, 1, 28, 28)\n",
    "        dis_fake = discriminator(gen_fake)  \n",
    "        \n",
    "        gen_loss = loss_func(dis_fake, ones_label)\n",
    "        gen_loss.backward()\n",
    "        gen_optim.step()\n",
    "        \n",
    "       \n",
    "    print(\"{}th iteration gen_loss: {} dis_loss: {}\".format(i+1,gen_loss.data,dis_loss.data))\n",
    "    \n",
    "    if gen_loss < best_gen_loss:\n",
    "        best_gen_loss = gen_loss\n",
    "        print(f'best_gen_loss update')\n",
    "        torch.save([generator,discriminator],'./GAN_Model/basic_gan.pkl')\n",
    "    "
   ]
  },
  {
   "cell_type": "code",
   "execution_count": 11,
   "id": "a198e17a",
   "metadata": {},
   "outputs": [
    {
     "data": {
      "image/png": "[encoded data removed]",
      "text/plain": [
       "<Figure size 432x288 with 1 Axes>"
      ]
     },
     "metadata": {
      "needs_background": "light"
     },
     "output_type": "display_data"
    },
    {
     "data": {
      "image/png": "[encoded data removed]",
      "text/plain": [
       "<Figure size 432x288 with 1 Axes>"
      ]
     },
     "metadata": {
      "needs_background": "light"
     },
     "output_type": "display_data"
    },
    {
     "data": {
      "image/png": "[encoded data removed]",
      "text/plain": [
       "<Figure size 432x288 with 1 Axes>"
      ]
     },
     "metadata": {
      "needs_background": "light"
     },
     "output_type": "display_data"
    },
    {
     "data": {
      "image/png": "[encoded data removed]",
      "text/plain": [
       "<Figure size 432x288 with 1 Axes>"
      ]
     },
     "metadata": {
      "needs_background": "light"
     },
     "output_type": "display_data"
    },
    {
     "data": {
      "image/png": "[encoded data removed]",
      "text/plain": [
       "<Figure size 432x288 with 1 Axes>"
      ]
     },
     "metadata": {
      "needs_background": "light"
     },
     "output_type": "display_data"
    }
   ],
   "source": [
    "import matplotlib.pyplot as plt\n",
    "\n",
    "generator, discriminator = torch.load('./GAN_Model/basic_gan.pkl')\n",
    "generator = generator.to(device)\n",
    "test_z = init.normal_(torch.Tensor(batch_size, z_size), mean=0, std=0.1).to(device)\n",
    "gen_fake = generator(test_z)\n",
    "\n",
    "for i in range(5):\n",
    "    img = torch.squeeze(gen_fake[i]).cpu().detach().numpy()\n",
    "    plt.imshow(img, cmap='gray')\n",
    "    plt.show()\n",
    "    "
   ]
  },
  {
   "cell_type": "markdown",
   "id": "d8c8ff67",
   "metadata": {},
   "source": [
    "## DCGAN\n",
    "\n",
    "한마디로 Covolutional 연산을 GAN에 이용한 것. Generator는 전치 합성곱 연산을 통해 이미지를 생성한다. 논문에서는 어떻게 하면 학습이 잘되는지 몇 가지를 추천해줌.\n",
    "\n",
    "1. 풀링연산을 합성곱 연산으로 대체하고, Generator 네트워크는 전치 합성곱 연산을 사용한다.\n",
    "2. Generator와 Discriminator에 배치 정규화를 사용한다.\n",
    "3. Fully connected layer는 사용하지 않는다.\n",
    "4. Generator network에는 마지막에 사용하는 Tanh 제외하고 모든 활성화함수에 ReLU를 사용한다.\n",
    "5. Discriminator의 모든 활성화 함수로는 Leaky ReLU를 사용한다."
   ]
  },
  {
   "cell_type": "code",
   "execution_count": 12,
   "id": "f2f3e8a4",
   "metadata": {},
   "outputs": [],
   "source": [
    "#DCGAN \n",
    "class Generator(nn.Module):\n",
    "    def __init__(self):\n",
    "        super(Generator,self).__init__()\n",
    "        self.reshape = nn.Sequential(nn.Linear(z_size, 7*7*256),\n",
    "                                     nn.BatchNorm1d(7*7*256),\n",
    "                                     nn.ReLU())\n",
    "        self.conv1 = nn.Sequential(nn.ConvTranspose2d(256, 128, kernel_size=4, stride=2, padding=1),\n",
    "                                   nn.BatchNorm2d(128),\n",
    "                                   nn.ReLU()) #128*14*14\n",
    "        self.conv2 = nn.Sequential(nn.Conv2d(128, 64, 3, 1, 1),\n",
    "                                   nn.BatchNorm2d(64),\n",
    "                                   nn.ReLU()) #64*14*14\n",
    "        self.conv3 = nn.Sequential(nn.ConvTranspose2d(64, 16, 4, 2, 1),\n",
    "                                   nn.ReLU()) #16*28*28\n",
    "        self.conv4 = nn.Sequential(nn.Conv2d(16, 1, 3, 1, 1),\n",
    "                                   nn.BatchNorm2d(1),\n",
    "                                   nn.Tanh()) #1*28*28\n",
    "        \n",
    "        for m in self.modules():\n",
    "            if isinstance(m, nn.Conv2d):\n",
    "                init.kaiming_normal_(m.weight.data)\n",
    "                m.bias.data.fill_(0)\n",
    "            elif isinstance(m, nn.Linear):\n",
    "                init.kaiming_normal_(m.weight.data)\n",
    "                m.bias.data.fill_(0)\n",
    "                \n",
    "    def forward(self, z):\n",
    "        out = self.reshape(z)\n",
    "        out = out.view(batch_size, 256, 7, 7)\n",
    "        out = self.conv1(out)\n",
    "        out = self.conv2(out)\n",
    "        out = self.conv3(out)\n",
    "        out = self.conv4(out)\n",
    "        \n",
    "        return out #batch*1*28*28\n",
    "\n",
    "class Discriminator(nn.Module):\n",
    "    def __init__(self):\n",
    "        super(Discriminator, self).__init__()\n",
    "        self.conv1 = nn.Sequential(nn.Conv2d(1, 8, 3, 1, 1),\n",
    "                                   nn.BatchNorm2d(8),\n",
    "                                   nn.LeakyReLU()) #8*28*28\n",
    "        self.conv2 = nn.Sequential(nn.Conv2d(8, 16, 3, stride=2, padding=1),\n",
    "                                   nn.BatchNorm2d(16),\n",
    "                                   nn.LeakyReLU()) #16*14*14\n",
    "        self.conv3 = nn.Sequential(nn.Conv2d(16, 32, 3, 1, 1),\n",
    "                                   nn.BatchNorm2d(32),\n",
    "                                   nn.LeakyReLU()) #32*14*14\n",
    "        self.conv4 = nn.Sequential(nn.Conv2d(32, 64, 3, 2, 1),\n",
    "                                   nn.BatchNorm2d(64),\n",
    "                                   nn.LeakyReLU()) #64*7*7\n",
    "        self.fc = nn.Sequential(nn.Linear(64*7*7, 1),\n",
    "                                nn.Sigmoid())\n",
    "        \n",
    "        for m in self.modules():\n",
    "            if isinstance(m, nn.Conv2d):\n",
    "                init.kaiming_normal_(m.weight.data)\n",
    "                m.bias.data.fill_(0)\n",
    "            elif isinstance(m, nn.Linear):\n",
    "                init.kaiming_normal_(m.weight.data)\n",
    "                m.bias.data.fill_(0)\n",
    "                \n",
    "    def forward(self, x):\n",
    "        out = self.conv1(x)\n",
    "        out = self.conv2(out)\n",
    "        out = self.conv3(out)\n",
    "        out = self.conv4(out)\n",
    "        out = out.view(batch_size, -1)\n",
    "        out = self.fc(out)\n",
    "        \n",
    "        return out #batch_size*1\n",
    "        "
   ]
  },
  {
   "cell_type": "code",
   "execution_count": 13,
   "id": "0f6e642c",
   "metadata": {},
   "outputs": [],
   "source": [
    "generator = Generator().to(device)\n",
    "discriminator = Discriminator().to(device)"
   ]
  },
  {
   "cell_type": "code",
   "execution_count": 14,
   "id": "ab75b8cf",
   "metadata": {},
   "outputs": [],
   "source": [
    "loss_func = nn.MSELoss()\n",
    "gen_optim = optim.Adam(generator.parameters(), lr=learning_rate)\n",
    "dis_optim = optim.Adam(discriminator.parameters(), lr=learning_rate)\n",
    "\n",
    "ones_label = torch.ones(batch_size, 1).to(device)\n",
    "zeros_label = torch.zeros(batch_size, 1).to(device)"
   ]
  },
  {
   "cell_type": "code",
   "execution_count": 15,
   "id": "5d85b5b0",
   "metadata": {},
   "outputs": [
    {
     "name": "stdout",
     "output_type": "stream",
     "text": [
      "1th iteration gen_loss: 0.9999996423721313 dis_loss: 7.089682185323909e-05\n",
      "best_gen_loss update\n",
      "2th iteration gen_loss: 0.9999991655349731 dis_loss: 2.3844906536396593e-05\n",
      "best_gen_loss update\n",
      "3th iteration gen_loss: 0.9999987483024597 dis_loss: 3.8616258279944304e-06\n",
      "best_gen_loss update\n",
      "4th iteration gen_loss: 0.9999978542327881 dis_loss: 2.5393369469384197e-06\n",
      "best_gen_loss update\n",
      "5th iteration gen_loss: 0.9999948143959045 dis_loss: 2.1731746073783142e-06\n",
      "best_gen_loss update\n",
      "6th iteration gen_loss: 0.9767929911613464 dis_loss: 0.008780248463153839\n",
      "best_gen_loss update\n",
      "7th iteration gen_loss: 0.9996135234832764 dis_loss: 1.4919504792487714e-05\n",
      "8th iteration gen_loss: 0.999995231628418 dis_loss: 3.1675178888690425e-06\n",
      "9th iteration gen_loss: 0.9999905228614807 dis_loss: 1.990710103427773e-07\n",
      "10th iteration gen_loss: 0.9999877214431763 dis_loss: 1.0282000175720896e-06\n"
     ]
    }
   ],
   "source": [
    "best_gen_loss = float('inf') #초기 loss는 무한대로 설정\n",
    "\n",
    "for i in range(epoch):\n",
    "    for j, (image, label) in enumerate(train_loader):\n",
    "        #Discrimator 학습\n",
    "        dis_optim.zero_grad()\n",
    "        image = image.to(device)\n",
    "        z = init.normal_(torch.Tensor(batch_size, z_size), mean=0, std=0.1).to(device)\n",
    "        gen_fake = generator(z) #(batch_size, 1, 28, 28)\n",
    "        dis_fake = discriminator(gen_fake)\n",
    "        \n",
    "        dis_real = discriminator(image)\n",
    "        dis_loss = loss_func(dis_fake, zeros_label)+ loss_func(dis_real, ones_label)\n",
    "        dis_loss.backward()\n",
    "        dis_optim.step()\n",
    "        \n",
    "        #Generator 학습\n",
    "        gen_optim.zero_grad()\n",
    "        z = init.normal_(torch.Tensor(batch_size, z_size), mean=0, std=0.1).to(device)\n",
    "        gen_fake = generator(z) #(batch_size, 1, 28, 28)\n",
    "        dis_fake = discriminator(gen_fake)  \n",
    "        \n",
    "        gen_loss = loss_func(dis_fake, ones_label)\n",
    "        gen_loss.backward()\n",
    "        gen_optim.step()\n",
    "        \n",
    "       \n",
    "    print(\"{}th iteration gen_loss: {} dis_loss: {}\".format(i+1,gen_loss.data,dis_loss.data))\n",
    "    \n",
    "    if gen_loss < best_gen_loss:\n",
    "        best_gen_loss = gen_loss\n",
    "        print(f'best_gen_loss update')\n",
    "        torch.save([generator,discriminator],'./GAN_Model/DCGAN.pkl')\n",
    "    "
   ]
  },
  {
   "cell_type": "code",
   "execution_count": 16,
   "id": "c3a5e71f",
   "metadata": {},
   "outputs": [
    {
     "data": {
      "image/png": "[encoded data removed]",
      "text/plain": [
       "<Figure size 432x288 with 1 Axes>"
      ]
     },
     "metadata": {
      "needs_background": "light"
     },
     "output_type": "display_data"
    },
    {
     "data": {
      "image/png": "[encoded data removed]",
      "text/plain": [
       "<Figure size 432x288 with 1 Axes>"
      ]
     },
     "metadata": {
      "needs_background": "light"
     },
     "output_type": "display_data"
    },
    {
     "data": {
      "image/png": "[encoded data removed]",
      "text/plain": [
       "<Figure size 432x288 with 1 Axes>"
      ]
     },
     "metadata": {
      "needs_background": "light"
     },
     "output_type": "display_data"
    },
    {
     "data": {
      "image/png": "[encoded data removed]",
      "text/plain": [
       "<Figure size 432x288 with 1 Axes>"
      ]
     },
     "metadata": {
      "needs_background": "light"
     },
     "output_type": "display_data"
    },
    {
     "data": {
      "image/png": "[encoded data removed]",
      "text/plain": [
       "<Figure size 432x288 with 1 Axes>"
      ]
     },
     "metadata": {
      "needs_background": "light"
     },
     "output_type": "display_data"
    }
   ],
   "source": [
    "import matplotlib.pyplot as plt\n",
    "\n",
    "generator, discriminator = torch.load('./GAN_Model/DCGAN.pkl')\n",
    "generator = generator.to(device)\n",
    "test_z = init.normal_(torch.Tensor(batch_size, z_size), mean=0, std=0.1).to(device)\n",
    "gen_fake = generator(test_z)\n",
    "\n",
    "for i in range(5):\n",
    "    img = torch.squeeze(gen_fake[i]).cpu().detach().numpy()\n",
    "    plt.imshow(img, cmap='gray')\n",
    "    plt.show()"
   ]
  }
 ],
 "metadata": {
  "kernelspec": {
   "display_name": "Python 3 (ipykernel)",
   "language": "python",
   "name": "python3"
  },
  "language_info": {
   "codemirror_mode": {
    "name": "ipython",
    "version": 3
   },
   "file_extension": ".py",
   "mimetype": "text/x-python",
   "name": "python",
   "nbconvert_exporter": "python",
   "pygments_lexer": "ipython3",
   "version": "3.7.11"
  }
 },
 "nbformat": 4,
 "nbformat_minor": 5
}
