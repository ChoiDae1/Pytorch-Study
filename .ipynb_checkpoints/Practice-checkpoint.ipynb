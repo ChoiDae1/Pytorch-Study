{
 "cells": [
  {
   "cell_type": "code",
   "execution_count": 1,
   "id": "9ca979eb",
   "metadata": {},
   "outputs": [],
   "source": [
    "import torch\n",
    "from torch.utils.data import Dataset\n",
    "import torch.nn.init as init\n",
    "\n",
    "class CustomDataset(Dataset):\n",
    "    def __init__(self,num_data):\n",
    "        self.x_data = init.uniform_(torch.Tensor(num_data,5),-10,10)\n",
    "        self.noise = init.normal_(torch.Tensor(num_data,5),std=1)\n",
    "        self.y_data = torch.reshape(torch.sum(773*self.x_data+1000+self.noise, dim=1),(num_data,-1))\n",
    "        #y는 (idex,1) 이런식이여야 함\n",
    "        #일부러 어렵게 줘봤음\n",
    "        \n",
    "    def __len__(self):\n",
    "        return len(self.x_data)\n",
    "    \n",
    "    def __getitem__(self,idx):\n",
    "        x = torch.Tensor(self.x_data[idx])\n",
    "        y = torch.Tensor(self.y_data[idx])\n",
    "        \n",
    "        return x,y\n"
   ]
  },
  {
   "cell_type": "code",
   "execution_count": 2,
   "id": "794aaebc",
   "metadata": {},
   "outputs": [],
   "source": [
    "from torch.utils.data import DataLoader\n",
    "\n",
    "train_dataset= CustomDataset(1000)\n",
    "test_dataset = CustomDataset(100)\n",
    "train_loader = DataLoader(train_dataset, batch_size=100, shuffle=True, drop_last=True)\n",
    "test_loader = DataLoader(test_dataset, batch_size=25, shuffle=False, drop_last=True)\n"
   ]
  },
  {
   "cell_type": "code",
   "execution_count": 3,
   "id": "26c7be94",
   "metadata": {},
   "outputs": [],
   "source": [
    "import torch.nn as nn\n",
    "\n",
    "def affine(input_neuron, output_neuron):\n",
    "    model = nn.Sequential(\n",
    "                          nn.Linear(input_neuron,output_neuron),\n",
    "                          nn.ReLU()\n",
    "                          )\n",
    "    return model\n",
    "\n",
    "class Regressor(nn.Module):\n",
    "    def __init__(self, input_size):\n",
    "        super(Regressor, self).__init__()\n",
    "        self.layer1 = affine(input_size, 50)\n",
    "        self.layer2 = affine(50, 25)\n",
    "        self.layer3 = affine(25, 12)\n",
    "        self.regressor = nn.Linear(12,1)\n",
    "    \n",
    "    def forward(self, x):\n",
    "        x = self.layer1(x)\n",
    "        x = self.layer2(x)\n",
    "        x = self.layer3(x)\n",
    "        x = self.regressor(x)\n",
    "        return x\n",
    "    \n",
    "    def _initialize_weights(self):\n",
    "        for m in self.modules():\n",
    "            if isinstance(m, nn.Linear):\n",
    "                nn.init.normal_(m.weight,mean=0, std=1)\n",
    "                nn.init.constant_(m.bias,0)\n",
    "           "
   ]
  },
  {
   "cell_type": "code",
   "execution_count": 4,
   "id": "e115ece3",
   "metadata": {},
   "outputs": [],
   "source": [
    "device = torch.device('cuda:0' if torch.cuda.is_available() else 'cpu')"
   ]
  },
  {
   "cell_type": "code",
   "execution_count": 5,
   "id": "276b5718",
   "metadata": {},
   "outputs": [
    {
     "data": {
      "text/plain": [
       "Regressor(\n",
       "  (layer1): Sequential(\n",
       "    (0): Linear(in_features=5, out_features=50, bias=True)\n",
       "    (1): ReLU()\n",
       "  )\n",
       "  (layer2): Sequential(\n",
       "    (0): Linear(in_features=50, out_features=25, bias=True)\n",
       "    (1): ReLU()\n",
       "  )\n",
       "  (layer3): Sequential(\n",
       "    (0): Linear(in_features=25, out_features=12, bias=True)\n",
       "    (1): ReLU()\n",
       "  )\n",
       "  (regressor): Linear(in_features=12, out_features=1, bias=True)\n",
       ")"
      ]
     },
     "execution_count": 5,
     "metadata": {},
     "output_type": "execute_result"
    }
   ],
   "source": [
    "model = Regressor(5).to(device)\n",
    "#model._initialize_weights()\n",
    "model.eval()"
   ]
  },
  {
   "cell_type": "code",
   "execution_count": 6,
   "id": "10291bed",
   "metadata": {},
   "outputs": [],
   "source": [
    "import torch.optim as optim\n",
    "\n",
    "learning_rate=0.001\n",
    "\n",
    "optimizer = optim.Adam(model.parameters(), lr=learning_rate)\n",
    "loss_fn = nn.L1Loss()"
   ]
  },
  {
   "cell_type": "code",
   "execution_count": 7,
   "id": "69360227",
   "metadata": {},
   "outputs": [],
   "source": [
    "def testloop(model, test_loader):\n",
    "    with torch.no_grad():\n",
    "        loss_array = []\n",
    "        for j, [_input, label] in enumerate(test_loader):\n",
    "            x= _input.to(device)\n",
    "            y= label.to(device)\n",
    "            output = model(x)\n",
    "            loss = loss_fn(output,y)\n",
    "            loss_array.append(loss.data)\n",
    "            \n",
    "        mean_loss = torch.sum(torch.Tensor(loss_array))/len(loss_array)#torch 관련함수는 무조건 텐서를 받아야 함\n",
    "        return mean_loss\n",
    "            "
   ]
  },
  {
   "cell_type": "code",
   "execution_count": 8,
   "id": "64250cfc",
   "metadata": {},
   "outputs": [
    {
     "name": "stdout",
     "output_type": "stream",
     "text": [
      "epoch1/10000, training_loss: 8397.6630859375  test_loss: 8565.8193359375\n",
      "epoch1001/10000, training_loss: 12.440221786499023  test_loss: 28.915693283081055\n",
      "epoch2001/10000, training_loss: 18.6839542388916  test_loss: 28.94055938720703\n",
      "epoch3001/10000, training_loss: 8.681306838989258  test_loss: 16.81706428527832\n",
      "epoch4001/10000, training_loss: 8.855627059936523  test_loss: 14.176794052124023\n",
      "epoch5001/10000, training_loss: 4.983044624328613  test_loss: 13.733417510986328\n",
      "epoch6001/10000, training_loss: 5.33857536315918  test_loss: 15.665014266967773\n",
      "epoch7001/10000, training_loss: 7.168936729431152  test_loss: 14.376791000366211\n",
      "epoch8001/10000, training_loss: 4.778870105743408  test_loss: 12.823354721069336\n",
      "epoch9001/10000, training_loss: 6.747442245483398  test_loss: 13.5782470703125\n",
      "epoch10000/10000, training_loss: 11.66049861907959  test_loss: 21.614587783813477\n"
     ]
    }
   ],
   "source": [
    "#학습&테스트loss\n",
    "num_epoch = 10000\n",
    "train_history =[]\n",
    "test_history = []\n",
    "\n",
    "for i in range(num_epoch):\n",
    "    for j, [_input, label] in enumerate(train_loader):\n",
    "        x= _input.to(device)\n",
    "        y= label.to(device)\n",
    "        \n",
    "        optimizer.zero_grad()\n",
    "        output = model(x)\n",
    "        loss = loss_fn(output,y)\n",
    "        loss.backward()\n",
    "        optimizer.step()\n",
    "        \n",
    "        \n",
    "    if (i%1000)==0 or (i==9999):   \n",
    "        train_history.append(loss.data.cpu().detach().numpy())\n",
    "        test_loss = testloop(model, test_loader)\n",
    "        test_history.append(test_loss.cpu().detach().numpy())\n",
    "        print(f'epoch{i+1}/10000, training_loss: {loss.data}  test_loss: {test_loss}')\n",
    "       \n",
    "\n"
   ]
  },
  {
   "cell_type": "code",
   "execution_count": 11,
   "id": "eabb9445",
   "metadata": {},
   "outputs": [
    {
     "data": {
      "image/png": "[encoded data removed]",
      "text/plain": [
       "<Figure size 432x288 with 1 Axes>"
      ]
     },
     "metadata": {
      "needs_background": "light"
     },
     "output_type": "display_data"
    }
   ],
   "source": [
    "import matplotlib.pyplot as plt\n",
    "\n",
    "plt.plot(train_history)\n",
    "plt.plot(test_history)\n",
    "plt.xlim(2,10)\n",
    "plt.ylim(0,50)\n",
    "plt.legend(['train','test'])\n",
    "plt.show()"
   ]
  },
  {
   "cell_type": "code",
   "execution_count": 7,
   "id": "ccd03ece",
   "metadata": {},
   "outputs": [
    {
     "name": "stdout",
     "output_type": "stream",
     "text": [
      "tensor([[1, 2, 3, 4],\n",
      "        [5, 6, 7, 8]])\n",
      "tensor([[1, 2, 3, 4],\n",
      "        [5, 6, 7, 8]])\n",
      "tensor([ 2,  4,  5,  6, 33,  7,  8,  9])\n",
      "tensor([[1, 2, 3, 4],\n",
      "        [5, 6, 7, 8]])\n"
     ]
    }
   ],
   "source": [
    "#view, reshape\n",
    "\n",
    "import torch\n",
    "\n",
    "x = torch.tensor([1,2,3,4,5,6,7,8])\n",
    "x_view = x.view(2,4)\n",
    "print(x_view)\n",
    "\n",
    "x = torch.tensor([1,2,3,4,5,6,7,8])\n",
    "x_reshape = x.reshape(2,4)\n",
    "print(x_reshape)\n",
    "\n",
    "x = torch.tensor([2,4,5,6,33,7,8,9])#이 x랑 위에 x는 다른 거임\n",
    "print(x)\n",
    "print(x_view)"
   ]
  },
  {
   "cell_type": "code",
   "execution_count": 8,
   "id": "5292bac2",
   "metadata": {},
   "outputs": [
    {
     "name": "stdout",
     "output_type": "stream",
     "text": [
      "tensor([[0., 0., 0.],\n",
      "        [0., 0., 0.]])\n",
      "tensor([[1., 1., 1.],\n",
      "        [1., 1., 1.]])\n"
     ]
    }
   ],
   "source": [
    "z = torch.zeros(3, 2)\n",
    "x = z.view(2, 3)\n",
    "print(x)\n",
    "z.fill_(1) #원본데이터 변형\n",
    "print(x) #view는 원본데이터와 메모리를 공유하고 있기 때문에, z(원본)이 변하므로, x도 변해야 함."
   ]
  },
  {
   "cell_type": "code",
   "execution_count": 15,
   "id": "9a2c973e",
   "metadata": {},
   "outputs": [
    {
     "name": "stdout",
     "output_type": "stream",
     "text": [
      "tensor([[0., 0., 0.],\n",
      "        [0., 0., 0.]])\n",
      "tensor([[1., 1., 1.],\n",
      "        [1., 1., 1.]])\n"
     ]
    }
   ],
   "source": [
    "z = torch.zeros(3, 2)\n",
    "x = z.reshape(2, 3)\n",
    "print(x)\n",
    "z.fill_(1) #원본데이터 변형\n",
    "print(x) #reshape는 원본데이터와 메모리를 공유하고 있지는 않음 따라서 반환하는 객체가 view일수도 아닐 수도 있음."
   ]
  },
  {
   "cell_type": "code",
   "execution_count": 19,
   "id": "fda4685a",
   "metadata": {},
   "outputs": [
    {
     "name": "stdout",
     "output_type": "stream",
     "text": [
      "tensor([[1., 2., 3., 4.],\n",
      "        [1., 2., 3., 4.],\n",
      "        [1., 2., 3., 4.]])\n",
      "tensor([[1., 2., 3.],\n",
      "        [4., 1., 2.],\n",
      "        [3., 4., 1.],\n",
      "        [2., 3., 4.]])\n",
      "tensor([[1., 1., 1.],\n",
      "        [2., 2., 2.],\n",
      "        [3., 3., 3.],\n",
      "        [4., 4., 4.]])\n",
      "tensor([[1., 1., 1.],\n",
      "        [2., 2., 2.],\n",
      "        [3., 3., 3.],\n",
      "        [4., 4., 4.]])\n"
     ]
    }
   ],
   "source": [
    "# view, permute, transpose\n",
    "\n",
    "import torch\n",
    "\n",
    "a = [[1,2,3,4],\n",
    "     [1,2,3,4],\n",
    "     [1,2,3,4]]\n",
    "\n",
    "a = torch.Tensor(a) # [3, 4]\n",
    "print(a)\n",
    "b = a.view(4, 3) # [4, 3]\n",
    "print(b)\n",
    "c = a.permute(1, 0) # [4, 3]\n",
    "print(c)\n",
    "d = a.transpose(1,0)\n",
    "print(d)\n",
    "#view는 텐서의 차원만 바뀌고, 데이터는 원래 데이터 순서대로 가져감. permute와 transpose는 데이터의 차원은 물론,\n",
    "#데이터 역시 차원을 따라 이동함\n",
    "#permute는 차원 여러개를 원하는 순서대로 이동가능하지만, transpose는 두개 차원만 맞교환 가능 transpose의 일반화 버전을 \n",
    "#permute라 생각하면 된다."
   ]
  },
  {
   "cell_type": "code",
   "execution_count": null,
   "id": "6bc8f702",
   "metadata": {},
   "outputs": [],
   "source": []
  }
 ],
 "metadata": {
  "kernelspec": {
   "display_name": "Python 3 (ipykernel)",
   "language": "python",
   "name": "python3"
  },
  "language_info": {
   "codemirror_mode": {
    "name": "ipython",
    "version": 3
   },
   "file_extension": ".py",
   "mimetype": "text/x-python",
   "name": "python",
   "nbconvert_exporter": "python",
   "pygments_lexer": "ipython3",
   "version": "3.7.11"
  }
 },
 "nbformat": 4,
 "nbformat_minor": 5
}
