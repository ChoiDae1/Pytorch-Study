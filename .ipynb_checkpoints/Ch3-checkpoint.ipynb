{
 "cells": [
  {
   "cell_type": "code",
   "execution_count": 1,
   "id": "a2974138",
   "metadata": {},
   "outputs": [
    {
     "data": {
      "text/plain": [
       "tensor([[0., 0., 0., 0.],\n",
       "        [0., 0., 0., 0.]])"
      ]
     },
     "execution_count": 1,
     "metadata": {},
     "output_type": "execute_result"
    }
   ],
   "source": [
    "#텐서 기본\n",
    "import torch\n",
    "X = torch.Tensor(2,4)#2X3크기의 텐서 생성, 원소는 임의의 난수\n",
    "X"
   ]
  },
  {
   "cell_type": "code",
   "execution_count": 2,
   "id": "f3670a3d",
   "metadata": {},
   "outputs": [
    {
     "name": "stdout",
     "output_type": "stream",
     "text": [
      "tensor([[1, 2, 3],\n",
      "        [4, 5, 6]])\n",
      "torch.int64\n",
      "tensor([[1, 2, 3],\n",
      "        [4, 5, 6]])\n",
      "cpu\n",
      "False\n"
     ]
    }
   ],
   "source": [
    "X = torch.tensor([[1,2,3],[4,5,6]])#원하는 값 직접입력 가능\n",
    "print(X)\n",
    "print(X.dtype)#텐서에 저장된 원소의 자료형\n",
    "print(X.data)#print(X)와 같음\n",
    "print(X.device)#어떤기기에 텐서를 올리는지\n",
    "print(X.requires_grad)#텐서에 대한 기울기를 저장할 것인지, default는 False"
   ]
  },
  {
   "cell_type": "code",
   "execution_count": 3,
   "id": "8626daa5",
   "metadata": {},
   "outputs": [
    {
     "name": "stdout",
     "output_type": "stream",
     "text": [
      "torch.float32\n"
     ]
    }
   ],
   "source": [
    "x_tensor = torch.tensor(data=[2.0, 3.0], requires_grad=True)\n",
    "print(x_tensor.dtype)"
   ]
  },
  {
   "cell_type": "code",
   "execution_count": 4,
   "id": "61170834",
   "metadata": {},
   "outputs": [
    {
     "name": "stdout",
     "output_type": "stream",
     "text": [
      "tensor([ 8., 12.]) None None\n"
     ]
    },
    {
     "name": "stderr",
     "output_type": "stream",
     "text": [
      "c:\\users\\user\\anaconda3\\envs\\pytorch\\lib\\site-packages\\ipykernel_launcher.py:10: UserWarning: The .grad attribute of a Tensor that is not a leaf Tensor is being accessed. Its .grad attribute won't be populated during autograd.backward(). If you indeed want the gradient for a non-leaf Tensor, use .retain_grad() on the non-leaf Tensor. If you access the non-leaf Tensor by mistake, make sure you access the leaf Tensor instead. See github.com/pytorch/pytorch/pull/30531 for more information.\n",
      "  # Remove the CWD from sys.path while we load stuff.\n"
     ]
    }
   ],
   "source": [
    "#torch.tensor는 dtype dafault가 int여서 float형으로 자료형을 변환해야 함. torch.Tensor는 float32\n",
    "x = torch.tensor(data=[2,3], dtype=torch.float32, requires_grad=True) \n",
    "y = x**2\n",
    "z = 2*y +3\n",
    "\n",
    "target = torch.tensor([3,4])\n",
    "loss = torch.sum(torch.abs(z-target))\n",
    "loss.backward()#연산 그래프를 따라가면서 기울기 계산\n",
    "\n",
    "print(x.grad, y.grad, z.grad)"
   ]
  },
  {
   "cell_type": "code",
   "execution_count": 5,
   "id": "e475bbc3",
   "metadata": {},
   "outputs": [],
   "source": [
    "import torch\n",
    "import torch.nn as nn#다양한 신경망 layer, model 포함\n",
    "import torch.optim as optim#경사하강법 알고리즘\n",
    "import torch.nn.init as init#텐서의 초기값을 주기위해 필요한 함수"
   ]
  },
  {
   "cell_type": "code",
   "execution_count": 6,
   "id": "ebbacd47",
   "metadata": {},
   "outputs": [
    {
     "name": "stdout",
     "output_type": "stream",
     "text": [
      "epoch0 loss:82.60690307617188\n",
      "epoch100 loss:82.116943359375\n",
      "epoch200 loss:80.97321319580078\n",
      "epoch300 loss:79.12373352050781\n",
      "epoch400 loss:76.03250122070312\n",
      "epoch500 loss:71.36045837402344\n",
      "epoch600 loss:65.18267822265625\n",
      "epoch700 loss:57.922584533691406\n",
      "epoch800 loss:50.64220428466797\n",
      "epoch900 loss:44.58888626098633\n",
      "epoch1000 loss:40.23268127441406\n",
      "epoch1100 loss:37.29216384887695\n",
      "epoch1200 loss:34.80567932128906\n",
      "epoch1300 loss:32.44624328613281\n",
      "epoch1400 loss:30.155967712402344\n",
      "epoch1500 loss:28.196271896362305\n",
      "epoch1600 loss:26.661962509155273\n",
      "epoch1700 loss:25.579343795776367\n",
      "epoch1800 loss:24.850019454956055\n",
      "epoch1900 loss:24.39694595336914\n",
      "epoch2000 loss:24.044769287109375\n",
      "epoch2100 loss:23.74197769165039\n",
      "epoch2200 loss:23.456619262695312\n",
      "epoch2300 loss:23.18476104736328\n",
      "epoch2400 loss:22.92058563232422\n",
      "epoch2500 loss:22.66049575805664\n",
      "epoch2600 loss:22.40530776977539\n",
      "epoch2700 loss:22.15369987487793\n",
      "epoch2800 loss:21.90391731262207\n",
      "epoch2900 loss:21.65557861328125\n",
      "epoch3000 loss:21.40725326538086\n",
      "epoch3100 loss:21.158763885498047\n",
      "epoch3200 loss:20.908531188964844\n",
      "epoch3300 loss:20.648643493652344\n",
      "epoch3400 loss:20.178359985351562\n",
      "epoch3500 loss:19.882949829101562\n",
      "epoch3600 loss:19.6005916595459\n",
      "epoch3700 loss:19.313335418701172\n",
      "epoch3800 loss:19.01995849609375\n",
      "epoch3900 loss:18.726150512695312\n",
      "epoch4000 loss:18.422466278076172\n",
      "epoch4100 loss:18.097145080566406\n",
      "epoch4200 loss:17.749589920043945\n",
      "epoch4300 loss:17.375993728637695\n",
      "epoch4400 loss:16.9823055267334\n",
      "epoch4500 loss:16.570287704467773\n",
      "epoch4600 loss:16.133193969726562\n",
      "epoch4700 loss:15.665340423583984\n",
      "epoch4800 loss:15.174201011657715\n",
      "epoch4900 loss:14.686336517333984\n",
      "epoch5000 loss:14.179600715637207\n",
      "epoch5100 loss:13.676082611083984\n",
      "epoch5200 loss:13.213127136230469\n",
      "epoch5300 loss:12.775810241699219\n",
      "epoch5400 loss:12.37319564819336\n",
      "epoch5500 loss:12.009211540222168\n",
      "epoch5600 loss:11.677690505981445\n",
      "epoch5700 loss:11.265963554382324\n",
      "epoch5800 loss:10.876543045043945\n",
      "epoch5900 loss:10.595714569091797\n",
      "epoch6000 loss:10.35849666595459\n",
      "epoch6100 loss:10.152570724487305\n",
      "epoch6200 loss:9.944939613342285\n",
      "epoch6300 loss:9.731478691101074\n",
      "epoch6400 loss:9.514639854431152\n",
      "epoch6500 loss:9.278871536254883\n",
      "epoch6600 loss:8.94861125946045\n",
      "epoch6700 loss:8.543113708496094\n",
      "epoch6800 loss:8.215725898742676\n",
      "epoch6900 loss:7.977133750915527\n",
      "epoch7000 loss:7.752801418304443\n",
      "epoch7100 loss:7.535058975219727\n",
      "epoch7200 loss:7.321492671966553\n",
      "epoch7300 loss:7.100992679595947\n",
      "epoch7400 loss:6.871219635009766\n",
      "epoch7500 loss:6.607548713684082\n",
      "epoch7600 loss:6.246999740600586\n",
      "epoch7700 loss:5.924549102783203\n",
      "epoch7800 loss:5.618342399597168\n",
      "epoch7900 loss:5.29358434677124\n",
      "epoch8000 loss:5.022485733032227\n",
      "epoch8100 loss:4.769074440002441\n",
      "epoch8200 loss:4.536051273345947\n",
      "epoch8300 loss:4.301264762878418\n",
      "epoch8400 loss:4.037129878997803\n",
      "epoch8500 loss:3.7617180347442627\n",
      "epoch8600 loss:3.5489351749420166\n",
      "epoch8700 loss:3.397911310195923\n",
      "epoch8800 loss:3.2567245960235596\n",
      "epoch8900 loss:3.131570816040039\n",
      "epoch9000 loss:3.013293981552124\n",
      "epoch9100 loss:2.8963475227355957\n",
      "epoch9200 loss:2.7817864418029785\n",
      "epoch9300 loss:2.674562931060791\n",
      "epoch9400 loss:2.5752103328704834\n",
      "epoch9500 loss:2.485379219055176\n",
      "epoch9600 loss:2.4061028957366943\n",
      "epoch9700 loss:2.3261961936950684\n",
      "epoch9800 loss:2.2448320388793945\n",
      "epoch9900 loss:2.165107250213623\n"
     ]
    }
   ],
   "source": [
    "num_data = 1000\n",
    "num_epoch = 10000\n",
    "\n",
    "noise = init.normal_(torch.Tensor(num_data,1), std=1)\n",
    "x = init.uniform_(torch.Tensor(num_data, 1), -15, 15)\n",
    "y = (x**2)+3#비선형으로 한번 꼬아서\n",
    "y_noise = y+ noise\n",
    "\n",
    "model = nn.Sequential(\n",
    "        nn.Linear(1,6),\n",
    "        nn.ReLU(),\n",
    "        nn.Linear(6,10),\n",
    "        nn.ReLU(),\n",
    "        nn.Linear(10,6),\n",
    "        nn.ReLU(),\n",
    "        nn.Linear(6,1))#4-layer fully-connected-layer\n",
    "\n",
    "loss_fn = nn.L1Loss()\n",
    "optimizer = optim.Adam(model.parameters(), lr=0.0002)\n",
    "\n",
    "loss_array = []\n",
    "for i in range(num_epoch):\n",
    "    optimizer.zero_grad()\n",
    "    output = model(x)\n",
    "    \n",
    "    loss = loss_fn(output,y_noise)\n",
    "    loss.backward()\n",
    "    optimizer.step()\n",
    "    loss_array.append(loss.data)#loss값만 필요하니까 loss.data사용\n",
    "    \n",
    "    if (i%100)==0:\n",
    "        print(f'epoch{i} loss:{loss.data}')\n"
   ]
  }
 ],
 "metadata": {
  "kernelspec": {
   "display_name": "Python 3 (ipykernel)",
   "language": "python",
   "name": "python3"
  },
  "language_info": {
   "codemirror_mode": {
    "name": "ipython",
    "version": 3
   },
   "file_extension": ".py",
   "mimetype": "text/x-python",
   "name": "python",
   "nbconvert_exporter": "python",
   "pygments_lexer": "ipython3",
   "version": "3.7.11"
  }
 },
 "nbformat": 4,
 "nbformat_minor": 5
}
