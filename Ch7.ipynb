{
 "cells": [
  {
   "cell_type": "markdown",
   "id": "26b48f03",
   "metadata": {},
   "source": [
    "## Overfitting and Underfitting\n",
    "\n",
    "1. overfitting\n",
    "-> 학습오차는 low, 테스트오차는 high. bias는 low, variance는 high.\n",
    "\n",
    "2. underfitting\n",
    "-> 학습오차는 high, 테스트오차는 low. bias는 high, variance는 low.\n",
    "\n",
    "* Kinds of Data\n",
    "1. learning data\n",
    "-> 모델 학습을 위한 데이터\n",
    "\n",
    "2. validation data\n",
    "-> 모델 검증, 즉 하이퍼 파라미터 튜닝을 위해 사용하는 데이터\n",
    "\n",
    "3. test data\n",
    "-> 모델의 최종적인 성능을 측정하기 위한 데이터\n",
    "\n",
    "\n",
    "\n",
    "* Solution preventing overfitting\n",
    "\n",
    "-> Regularization, Dropout, improving data, weight initialization....etc\n",
    "\n",
    "\n"
   ]
  },
  {
   "cell_type": "markdown",
   "id": "a87555a7",
   "metadata": {},
   "source": [
    "## Regularization\n",
    " \n",
    " 1. L1\n",
    " -> 가중치의 절댓값을 최소화하는 것이기 때문에 가중치가 정확하게 0이 될 수 있음.(weight가 sparse함)\n",
    "    위와 같은 특성덕에, feature selection이 가능함.\n",
    "    \n",
    " 2. L2 \n",
    " -> L1에 비해, 계산 용이, 가중치의 제곱을 최소화하는 것이기 때문에 정확히 0이 되는 가중치는 거의 없음.\n",
    " \n",
    " 3. elastic regularization\n",
    " -> L1과 L2를 동시에 사용함."
   ]
  },
  {
   "cell_type": "code",
   "execution_count": 4,
   "id": "465a5e88",
   "metadata": {},
   "outputs": [],
   "source": [
    "import numpy as np\n",
    "import torch\n",
    "import torch.nn as nn\n",
    "import torch.optim as optim\n",
    "import torch.nn.init as init\n",
    "import torchvision.datasets as dset\n",
    "import torchvision.transforms as transforms\n",
    "from torch.utils.data import DataLoader"
   ]
  },
  {
   "cell_type": "code",
   "execution_count": 5,
   "id": "cafce5ab",
   "metadata": {},
   "outputs": [],
   "source": [
    "batch_size = 256\n",
    "learning_rate = 0.0002\n",
    "num_epoch = 10"
   ]
  },
  {
   "cell_type": "code",
   "execution_count": 6,
   "id": "1c490a69",
   "metadata": {
    "scrolled": false
   },
   "outputs": [
    {
     "name": "stderr",
     "output_type": "stream",
     "text": [
      "c:\\users\\user\\anaconda3\\envs\\pytorch\\lib\\site-packages\\torchvision\\datasets\\mnist.py:498: UserWarning: The given NumPy array is not writeable, and PyTorch does not support non-writeable tensors. This means you can write to the underlying (supposedly non-writeable) NumPy array using the tensor. You may want to copy the array to protect its data or make it writeable before converting it to a tensor. This type of warning will be suppressed for the rest of this program. (Triggered internally at  ..\\torch\\csrc\\utils\\tensor_numpy.cpp:180.)\n",
      "  return torch.from_numpy(parsed.astype(m[2], copy=False)).view(*s)\n"
     ]
    }
   ],
   "source": [
    "mnist_train = dset.MNIST(\"./\", train=True, transform=transforms.ToTensor(), target_transform=None, download=True)\n",
    "mnist_test = dset.MNIST(\"./\", train=False, transform=transforms.ToTensor(), target_transform=None, download=True)"
   ]
  },
  {
   "cell_type": "code",
   "execution_count": 7,
   "id": "31deb43e",
   "metadata": {},
   "outputs": [
    {
     "name": "stdout",
     "output_type": "stream",
     "text": [
      "torch.Size([1, 28, 28]) 60000\n"
     ]
    },
    {
     "data": {
      "text/plain": [
       "(torch.Size([1, 28, 28]), 10000)"
      ]
     },
     "execution_count": 7,
     "metadata": {},
     "output_type": "execute_result"
    }
   ],
   "source": [
    "print(mnist_train.__getitem__(0)[0].size(), mnist_train.__len__())\n",
    "mnist_test.__getitem__(0)[0].size(), mnist_test.__len__()"
   ]
  },
  {
   "cell_type": "code",
   "execution_count": 8,
   "id": "60bd5120",
   "metadata": {},
   "outputs": [],
   "source": [
    "train_loader = torch.utils.data.DataLoader(mnist_train,batch_size=batch_size, shuffle=True,num_workers=2,drop_last=True)\n",
    "test_loader = torch.utils.data.DataLoader(mnist_test,batch_size=batch_size, shuffle=False,num_workers=2,drop_last=True)"
   ]
  },
  {
   "cell_type": "code",
   "execution_count": 10,
   "id": "ef0b316a",
   "metadata": {},
   "outputs": [],
   "source": [
    "class CNN(nn.Module):\n",
    "    def __init__(self):\n",
    "        super(CNN,self).__init__()\n",
    "        self.layer = nn.Sequential(\n",
    "            nn.Conv2d(1,16,3,padding=1),  # 28 x 28\n",
    "            nn.ReLU(),\n",
    "            nn.Conv2d(16,32,3,padding=1), # 28 x 28\n",
    "            nn.ReLU(),\n",
    "            nn.MaxPool2d(2,2),            # 14 x 14\n",
    "            nn.Conv2d(32,64,3,padding=1), # 14 x 14\n",
    "            nn.ReLU(),\n",
    "            nn.MaxPool2d(2,2)             #  7 x 7\n",
    "        )\n",
    "        self.fc_layer = nn.Sequential(\n",
    "            nn.Linear(64*7*7,100),\n",
    "            nn.ReLU(),\n",
    "            nn.Linear(100,10)\n",
    "        )       \n",
    "        \n",
    "    def forward(self,x):\n",
    "        out = self.layer(x)\n",
    "        out = out.view(batch_size,-1)\n",
    "        out = self.fc_layer(out)\n",
    "        return out"
   ]
  },
  {
   "cell_type": "code",
   "execution_count": 11,
   "id": "76e12c28",
   "metadata": {},
   "outputs": [
    {
     "name": "stdout",
     "output_type": "stream",
     "text": [
      "cuda:0\n"
     ]
    }
   ],
   "source": [
    "device = torch.device(\"cuda:0\" if torch.cuda.is_available() else \"cpu\")\n",
    "print(device)\n",
    "\n",
    "model = CNN().to(device)\n",
    "loss_func = nn.CrossEntropyLoss()\n",
    "\n",
    "# 정형화는 weight_decay로 줄 수 있음.\n",
    "optimizer = torch.optim.SGD(model.parameters(), lr=learning_rate, weight_decay=0.1)"
   ]
  },
  {
   "cell_type": "code",
   "execution_count": 14,
   "id": "3daf5385",
   "metadata": {},
   "outputs": [
    {
     "name": "stdout",
     "output_type": "stream",
     "text": [
      "tensor(2.3054, device='cuda:0', grad_fn=<NllLossBackward>)\n"
     ]
    }
   ],
   "source": [
    "for i in range(num_epoch):\n",
    "    for j,[image,label] in enumerate(train_loader):\n",
    "        x = image.to(device)\n",
    "        y_= label.to(device)\n",
    "        \n",
    "        optimizer.zero_grad()\n",
    "        output = model.forward(x)\n",
    "        loss = loss_func(output,y_)\n",
    "        loss.backward()\n",
    "        optimizer.step()\n",
    "        \n",
    "    if i % 10 == 0:\n",
    "        print(loss)          "
   ]
  },
  {
   "cell_type": "code",
   "execution_count": 15,
   "id": "9dd7c172",
   "metadata": {},
   "outputs": [
    {
     "name": "stdout",
     "output_type": "stream",
     "text": [
      "Accuracy of Test Data: 10.09615421295166\n"
     ]
    }
   ],
   "source": [
    "correct = 0\n",
    "total = 0\n",
    "\n",
    "with torch.no_grad():\n",
    "    for image,label in test_loader:\n",
    "        x = image.to(device)\n",
    "        y_= label.to(device)\n",
    "\n",
    "        output = model.forward(x)\n",
    "        _,output_index = torch.max(output,1)\n",
    "\n",
    "        total += label.size(0)\n",
    "        correct += (output_index == y_).sum().float()\n",
    "\n",
    "    print(\"Accuracy of Test Data: {}\".format(100*correct/total))"
   ]
  },
  {
   "cell_type": "markdown",
   "id": "bb68cac2",
   "metadata": {},
   "source": [
    "## Dropout\n",
    "\n",
    "-> 특정 뉴런을 0으로 만들어주는 것. 수용력이 낮은 모델들의 앙상블 개념으로도 볼 수 있음. 테스트할때는 모든 뉴런의 값을 먼저 계산하고 이에 (1-p)를 곱해주고 전달함.(여기서 p는 하나의 뉴런이 0이 될 확률을 말한다)\n",
    "\n",
    "   "
   ]
  },
  {
   "cell_type": "code",
   "execution_count": 17,
   "id": "54544eac",
   "metadata": {},
   "outputs": [],
   "source": [
    "class CNN(nn.Module):\n",
    "    def __init__(self):\n",
    "        super(CNN,self).__init__()\n",
    "        self.layer = nn.Sequential(\n",
    "            nn.Conv2d(1,16,3,padding=1),  # 28 x 28\n",
    "            nn.ReLU(),\n",
    "            nn.Dropout2d(0.2),\n",
    "            nn.Conv2d(16,32,3,padding=1), # 28 x 28\n",
    "            nn.ReLU(),\n",
    "            nn.MaxPool2d(2,2), \n",
    "            nn.Dropout2d(0.2),          # 14 x 14\n",
    "            nn.Conv2d(32,64,3,padding=1), # 14 x 14\n",
    "            nn.ReLU(),\n",
    "            nn.MaxPool2d(2,2)             #  7 x 7\n",
    "        )\n",
    "        self.fc_layer = nn.Sequential(\n",
    "            nn.Linear(64*7*7,100),\n",
    "            nn.ReLU(),\n",
    "            nn.Linear(100,10)\n",
    "        )       \n",
    "        \n",
    "    def forward(self,x):\n",
    "        out = self.layer(x)\n",
    "        out = out.view(batch_size,-1)\n",
    "        out = self.fc_layer(out)\n",
    "        return out"
   ]
  },
  {
   "cell_type": "code",
   "execution_count": 18,
   "id": "fc20cc96",
   "metadata": {},
   "outputs": [],
   "source": [
    "model = CNN().to(device)\n",
    "loss_func = nn.CrossEntropyLoss()\n",
    "optimizer = torch.optim.SGD(model.parameters(), lr=learning_rate, weight_decay=0.1)"
   ]
  },
  {
   "cell_type": "code",
   "execution_count": 20,
   "id": "bfb7d382",
   "metadata": {},
   "outputs": [
    {
     "name": "stdout",
     "output_type": "stream",
     "text": [
      "tensor(2.3034, device='cuda:0', grad_fn=<NllLossBackward>)\n"
     ]
    }
   ],
   "source": [
    "model.train()\n",
    "for i in range(num_epoch):\n",
    "    for j,[image,label] in enumerate(train_loader):\n",
    "        x = image.to(device)\n",
    "        y_= label.to(device)\n",
    "        \n",
    "        optimizer.zero_grad()\n",
    "        output = model.forward(x)\n",
    "        loss = loss_func(output,y_)\n",
    "        loss.backward()\n",
    "        optimizer.step()\n",
    "        \n",
    "    if i % 10 == 0:\n",
    "        print(loss)     "
   ]
  },
  {
   "cell_type": "code",
   "execution_count": 21,
   "id": "1e31f4c0",
   "metadata": {},
   "outputs": [
    {
     "name": "stdout",
     "output_type": "stream",
     "text": [
      "Accuracy of Test Data: 15.95552921295166\n"
     ]
    }
   ],
   "source": [
    "correct = 0\n",
    "total = 0\n",
    "\n",
    "model.eval()\n",
    "with torch.no_grad():\n",
    "    for image,label in test_loader:\n",
    "        x = image.to(device)\n",
    "        y_= label.to(device)\n",
    "\n",
    "        output = model.forward(x)\n",
    "        _,output_index = torch.max(output,1)\n",
    "\n",
    "        total += label.size(0)\n",
    "        correct += (output_index == y_).sum().float()\n",
    "\n",
    "    print(\"Accuracy of Test Data: {}\".format(100*correct/total))"
   ]
  },
  {
   "cell_type": "markdown",
   "id": "46d49dca",
   "metadata": {},
   "source": [
    "## Data Augumentation\n",
    "\n",
    "\n",
    "-> 데이터 증강은 말그대로, 데이터를 늘리는 방법이다. 주어진 그림을 좌우, 상하 반전하는 방법이나, 임의의 크기로 잘라낸 다음(crop) 사이즈를 키워 맞추기도 함.\n"
   ]
  },
  {
   "cell_type": "code",
   "execution_count": 22,
   "id": "80ef0226",
   "metadata": {},
   "outputs": [],
   "source": [
    "import numpy as np\n",
    "import torch\n",
    "import torch.nn as nn\n",
    "import torch.optim as optim\n",
    "import torch.nn.init as init\n",
    "import torchvision.datasets as dset\n",
    "import torchvision.transforms as transforms\n",
    "from torch.utils.data import DataLoader\n",
    "\n",
    "from PIL import Image\n",
    "import matplotlib.pyplot as plt\n",
    "%matplotlib inline"
   ]
  },
  {
   "cell_type": "code",
   "execution_count": 55,
   "id": "cc2a4cd1",
   "metadata": {},
   "outputs": [],
   "source": [
    "import random\n",
    "from scipy import ndimage\n",
    "\n",
    "\n",
    "def random_rotate2d(img):\n",
    "    rand = random.randrange(0,360,90)\n",
    "    img = ndimage.interpolation.rotate(img, rand, reshape=False, order=0, mode='reflect')\n",
    "    return img"
   ]
  },
  {
   "cell_type": "code",
   "execution_count": 56,
   "id": "9cb0bdbc",
   "metadata": {},
   "outputs": [],
   "source": [
    "mnist_train = dset.MNIST(\"./\", train=True, \n",
    "                         transform = transforms.Compose([\n",
    "                             transforms.Resize(34),                             # 원래 28x28인 이미지를 34x34로 늘립니다.\n",
    "                             transforms.CenterCrop(28),                         # 중앙 28x28를 뽑아냅니다.\n",
    "                             transforms.RandomHorizontalFlip(),                 # 랜덤하게 좌우반전 합니다.\n",
    "                             transforms.Lambda(random_rotate2d),\n",
    "                             transforms.ToTensor(),                             # 이미지를 텐서로 변형합니다.\n",
    "                         ]),\n",
    "                         target_transform=None,\n",
    "                         download=True)\n",
    "\n",
    "\n",
    "mnist_test = dset.MNIST(\"./\", train=False, transform=transforms.ToTensor(), target_transform=None, download=True)"
   ]
  },
  {
   "cell_type": "code",
   "execution_count": 57,
   "id": "6136747d",
   "metadata": {},
   "outputs": [],
   "source": [
    "train_loader = torch.utils.data.DataLoader(mnist_train,batch_size=batch_size, shuffle=True,num_workers=0,drop_last=True)\n",
    "test_loader = torch.utils.data.DataLoader(mnist_test,batch_size=batch_size, shuffle=False,num_workers=0,drop_last=True)"
   ]
  },
  {
   "cell_type": "code",
   "execution_count": 58,
   "id": "f1965e37",
   "metadata": {},
   "outputs": [
    {
     "name": "stdout",
     "output_type": "stream",
     "text": [
      "0\n"
     ]
    },
    {
     "data": {
      "image/png": "[encoded data removed]",
      "text/plain": [
       "<Figure size 432x288 with 1 Axes>"
      ]
     },
     "metadata": {
      "needs_background": "light"
     },
     "output_type": "display_data"
    },
    {
     "name": "stdout",
     "output_type": "stream",
     "text": [
      "1\n"
     ]
    },
    {
     "data": {
      "image/png": "[encoded data removed]",
      "text/plain": [
       "<Figure size 432x288 with 1 Axes>"
      ]
     },
     "metadata": {
      "needs_background": "light"
     },
     "output_type": "display_data"
    },
    {
     "name": "stdout",
     "output_type": "stream",
     "text": [
      "2\n"
     ]
    },
    {
     "data": {
      "image/png": "[encoded data removed]",
      "text/plain": [
       "<Figure size 432x288 with 1 Axes>"
      ]
     },
     "metadata": {
      "needs_background": "light"
     },
     "output_type": "display_data"
    },
    {
     "name": "stdout",
     "output_type": "stream",
     "text": [
      "3\n"
     ]
    },
    {
     "data": {
      "image/png": "[encoded data removed]",
      "text/plain": [
       "<Figure size 432x288 with 1 Axes>"
      ]
     },
     "metadata": {
      "needs_background": "light"
     },
     "output_type": "display_data"
    },
    {
     "name": "stdout",
     "output_type": "stream",
     "text": [
      "4\n"
     ]
    },
    {
     "data": {
      "image/png": "[encoded data removed]",
      "text/plain": [
       "<Figure size 432x288 with 1 Axes>"
      ]
     },
     "metadata": {
      "needs_background": "light"
     },
     "output_type": "display_data"
    },
    {
     "name": "stdout",
     "output_type": "stream",
     "text": [
      "5\n"
     ]
    },
    {
     "data": {
      "image/png": "[encoded data removed]",
      "text/plain": [
       "<Figure size 432x288 with 1 Axes>"
      ]
     },
     "metadata": {
      "needs_background": "light"
     },
     "output_type": "display_data"
    },
    {
     "name": "stdout",
     "output_type": "stream",
     "text": [
      "6\n"
     ]
    },
    {
     "data": {
      "image/png": "[encoded data removed]",
      "text/plain": [
       "<Figure size 432x288 with 1 Axes>"
      ]
     },
     "metadata": {
      "needs_background": "light"
     },
     "output_type": "display_data"
    }
   ],
   "source": [
    "# 이미지를 보면 알수 있듯이 augmentation을 데이터에 맞게 하지 않으면 말도 안되는걸 학습하게 됩니다.\n",
    "# 90도 돌리거나 좌우반전을 함으로써 의미를 잃어버리는 경우도 있기 때문에 데이터에 맞는 augmentation을 해야합니다.\n",
    "\n",
    "for idx,(img,label) in enumerate(train_loader):\n",
    "    print(idx)\n",
    "    plt.imshow(img[0,0,...],cmap=\"gray\")\n",
    "    plt.show()\n",
    "    if idx > 5:\n",
    "        break"
   ]
  },
  {
   "cell_type": "markdown",
   "id": "fe22aecc",
   "metadata": {},
   "source": [
    "## Initialization\n",
    "-> 모델이 학습되는 도중에 gradient vanishing, exploding 을 겪지 않도록 하거나, 손실함수의 공간을 최적화가 쉬운 형태로 바꾸는 가중치의 초기상태를 결정하는 방법.\n",
    "대표적인 방법으로, Xavier초기화와 He초기화가 있다. Xavier 초기화는 sigmoid나 tanh를 활성화함수로 사용할 때, 쓰면 유리하고, ReLU를 사용할 경우, He 초기화를 활용하는 것이 보다 유리하다."
   ]
  },
  {
   "cell_type": "code",
   "execution_count": 74,
   "id": "c2ed8780",
   "metadata": {},
   "outputs": [],
   "source": [
    "class CNN(nn.Module):\n",
    "    def __init__(self):\n",
    "        super(CNN,self).__init__()\n",
    "        self.layer = nn.Sequential(\n",
    "            nn.Conv2d(1,16,3,padding=1),  # 28 x 28\n",
    "            nn.ReLU(),\n",
    "            nn.Dropout2d(0.2),\n",
    "            nn.Conv2d(16,32,3,padding=1), # 28 x 28\n",
    "            nn.ReLU(),\n",
    "            nn.MaxPool2d(2,2), \n",
    "            nn.Dropout2d(0.2),          # 14 x 14\n",
    "            nn.Conv2d(32,64,3,padding=1), # 14 x 14\n",
    "            nn.ReLU(),\n",
    "            nn.MaxPool2d(2,2)             #  7 x 7\n",
    "        )\n",
    "        self.fc_layer = nn.Sequential(\n",
    "            nn.Linear(64*7*7,100),\n",
    "            nn.ReLU(),\n",
    "            nn.Linear(100,10)\n",
    "        )       \n",
    "        \n",
    "        #initialization, 모델의 module들을 차례로 돌면서, 가중치를 초기화한다.\n",
    "        for m in self.modules():\n",
    "            if isinstance(m, nn.Conv2d):\n",
    "                '''# Init with small numbers\n",
    "                m.weight.data.normal_(0.0, 0.02)\n",
    "                m.bias.data.fill_(0)\n",
    "            \n",
    "                # Xaivier Initialization\n",
    "                init.xavier_normal(m.weight.data)\n",
    "                m.bias.data.fill_(0)'''\n",
    "            \n",
    "                # Kaming Initialization\n",
    "                init.kaiming_normal(m.weight.data)\n",
    "                m.bias.data.fill(0)\n",
    "            \n",
    "            elif isinstance(m, nn.Linear):\n",
    "                '''# Init with small numbers\n",
    "                m.weight.data.normal_(0.0, 0.02)\n",
    "                m.bias.data.fill_(0)\n",
    "            \n",
    "                # Xaivier Initialization\n",
    "                init.xavier_normal(m.weight.data)\n",
    "                m.bias.data.fill_(0)'''\n",
    "                # Kaming Initialization\n",
    "                init.kaiming_normal(m.weight.data)\n",
    "                m.bias.data.fill(0)\n",
    "    "
   ]
  },
  {
   "cell_type": "code",
   "execution_count": null,
   "id": "b3edc5fd",
   "metadata": {},
   "outputs": [],
   "source": []
  }
 ],
 "metadata": {
  "kernelspec": {
   "display_name": "Python 3 (ipykernel)",
   "language": "python",
   "name": "python3"
  },
  "language_info": {
   "codemirror_mode": {
    "name": "ipython",
    "version": 3
   },
   "file_extension": ".py",
   "mimetype": "text/x-python",
   "name": "python",
   "nbconvert_exporter": "python",
   "pygments_lexer": "ipython3",
   "version": "3.7.11"
  }
 },
 "nbformat": 4,
 "nbformat_minor": 5
}
